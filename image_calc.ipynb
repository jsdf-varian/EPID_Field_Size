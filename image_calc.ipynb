{
 "cells": [
  {
   "cell_type": "code",
   "execution_count": 1,
   "id": "d45fdc5a-7b54-4618-b301-dc0b5a75ef18",
   "metadata": {},
   "outputs": [],
   "source": [
    "import glob\n",
    "\n",
    "from run import main"
   ]
  },
  {
   "cell_type": "code",
   "execution_count": 4,
   "id": "a281422e-7e2d-452c-affe-297c5c6b02a0",
   "metadata": {},
   "outputs": [
    {
     "data": {
      "text/plain": [
       "['files\\\\0117_30x30\\\\tank_30cm_1.dcm',\n",
       " 'files\\\\0117_30x30\\\\tank_30cm_2.dcm',\n",
       " 'files\\\\0117_30x30\\\\tank_30cm_3.dcm']"
      ]
     },
     "execution_count": 4,
     "metadata": {},
     "output_type": "execute_result"
    }
   ],
   "source": [
    "pattern = \"files/*/*.dcm\"\n",
    "files = glob.glob(pattern)\n",
    "files"
   ]
  },
  {
   "cell_type": "code",
   "execution_count": 5,
   "id": "a4533677-2bad-4162-9302-c1476af5a1f1",
   "metadata": {},
   "outputs": [
    {
     "name": "stdout",
     "output_type": "stream",
     "text": [
      "files\\0117_30x30\\tank_30cm_1.dcm\n",
      "In-line FWHM: 300.13 mm\n",
      "Cross-line FWHM: 301.04 mm\n",
      "==================================================\n",
      "files\\0117_30x30\\tank_30cm_2.dcm\n",
      "In-line FWHM: 300.12 mm\n",
      "Cross-line FWHM: 301.04 mm\n",
      "==================================================\n",
      "files\\0117_30x30\\tank_30cm_3.dcm\n",
      "In-line FWHM: 300.12 mm\n",
      "Cross-line FWHM: 301.04 mm\n",
      "==================================================\n"
     ]
    }
   ],
   "source": [
    "for file in files:\n",
    "    print(f\"{file}\")\n",
    "    main(file, figure=False)\n",
    "    print(\"=\"*50)"
   ]
  },
  {
   "cell_type": "code",
   "execution_count": null,
   "id": "ed26a2ef-1bf8-4623-a4b6-0df1c511af12",
   "metadata": {},
   "outputs": [],
   "source": []
  },
  {
   "cell_type": "code",
   "execution_count": null,
   "id": "f99a237d-1871-4d92-acb9-5adf0a17d973",
   "metadata": {},
   "outputs": [],
   "source": []
  }
 ],
 "metadata": {
  "kernelspec": {
   "display_name": "Python 3 (ipykernel)",
   "language": "python",
   "name": "python3"
  },
  "language_info": {
   "codemirror_mode": {
    "name": "ipython",
    "version": 3
   },
   "file_extension": ".py",
   "mimetype": "text/x-python",
   "name": "python",
   "nbconvert_exporter": "python",
   "pygments_lexer": "ipython3",
   "version": "3.9.12"
  }
 },
 "nbformat": 4,
 "nbformat_minor": 5
}
