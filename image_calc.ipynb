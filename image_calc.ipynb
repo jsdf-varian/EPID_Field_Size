{
 "cells": [
  {
   "cell_type": "code",
   "execution_count": 61,
   "id": "a281422e-7e2d-452c-affe-297c5c6b02a0",
   "metadata": {},
   "outputs": [
    {
     "name": "stdout",
     "output_type": "stream",
     "text": [
      "The autoreload extension is already loaded. To reload it, use:\n",
      "  %reload_ext autoreload\n"
     ]
    }
   ],
   "source": [
    "import glob\n",
    "\n",
    "from run import main\n",
    "from create_csv import export_csv\n",
    "%load_ext autoreload\n",
    "%autoreload 2\n",
    "\n",
    "export_csv()"
   ]
  },
  {
   "cell_type": "code",
   "execution_count": null,
   "id": "a40d2f2b-8f8a-44db-9fda-ea9ea4bd1cd7",
   "metadata": {},
   "outputs": [],
   "source": []
  }
 ],
 "metadata": {
  "kernelspec": {
   "display_name": "Python 3 (ipykernel)",
   "language": "python",
   "name": "python3"
  },
  "language_info": {
   "codemirror_mode": {
    "name": "ipython",
    "version": 3
   },
   "file_extension": ".py",
   "mimetype": "text/x-python",
   "name": "python",
   "nbconvert_exporter": "python",
   "pygments_lexer": "ipython3",
   "version": "3.9.7"
  }
 },
 "nbformat": 4,
 "nbformat_minor": 5
}
